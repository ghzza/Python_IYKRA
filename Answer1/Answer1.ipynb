{
 "cells": [
  {
   "cell_type": "markdown",
   "id": "d5a9d5fd",
   "metadata": {},
   "source": [
    "# Import Library"
   ]
  },
  {
   "cell_type": "code",
   "execution_count": 1,
   "id": "928ee9af",
   "metadata": {
    "ExecuteTime": {
     "end_time": "2021-06-26T03:56:20.499060Z",
     "start_time": "2021-06-26T03:56:20.087968Z"
    }
   },
   "outputs": [],
   "source": [
    "import pandas as pd"
   ]
  },
  {
   "cell_type": "markdown",
   "id": "0cb4ad1c",
   "metadata": {},
   "source": [
    "# Create Empty Dataframe"
   ]
  },
  {
   "cell_type": "code",
   "execution_count": 2,
   "id": "a1a6fd96",
   "metadata": {
    "ExecuteTime": {
     "end_time": "2021-06-26T03:56:20.531067Z",
     "start_time": "2021-06-26T03:56:20.501061Z"
    }
   },
   "outputs": [
    {
     "data": {
      "text/html": [
       "<div>\n",
       "<style scoped>\n",
       "    .dataframe tbody tr th:only-of-type {\n",
       "        vertical-align: middle;\n",
       "    }\n",
       "\n",
       "    .dataframe tbody tr th {\n",
       "        vertical-align: top;\n",
       "    }\n",
       "\n",
       "    .dataframe thead th {\n",
       "        text-align: right;\n",
       "    }\n",
       "</style>\n",
       "<table border=\"1\" class=\"dataframe\">\n",
       "  <thead>\n",
       "    <tr style=\"text-align: right;\">\n",
       "      <th></th>\n",
       "      <th>id</th>\n",
       "      <th>insert_time</th>\n",
       "      <th>tx_amount</th>\n",
       "      <th>tx_type</th>\n",
       "      <th>status</th>\n",
       "    </tr>\n",
       "  </thead>\n",
       "  <tbody>\n",
       "  </tbody>\n",
       "</table>\n",
       "</div>"
      ],
      "text/plain": [
       "Empty DataFrame\n",
       "Columns: [id, insert_time, tx_amount, tx_type, status]\n",
       "Index: []"
      ]
     },
     "execution_count": 2,
     "metadata": {},
     "output_type": "execute_result"
    }
   ],
   "source": [
    "df = pd.DataFrame(columns = ['id','insert_time','tx_amount','tx_type','status'])\n",
    "df"
   ]
  },
  {
   "cell_type": "markdown",
   "id": "1d8f9149",
   "metadata": {},
   "source": [
    "# Create Function to Input Data"
   ]
  },
  {
   "cell_type": "code",
   "execution_count": 3,
   "id": "e4412777",
   "metadata": {
    "ExecuteTime": {
     "end_time": "2021-06-26T03:56:20.547071Z",
     "start_time": "2021-06-26T03:56:20.533068Z"
    }
   },
   "outputs": [],
   "source": [
    "def InputData():\n",
    "    status = ''\n",
    "    counterId = 0\n",
    "    counterInsertTime = 0\n",
    "    \n",
    "    id = int(input('Masukan Id : '))\n",
    "    insert_time = input('Masukan Tanggal (dd/mm/yyyy) : ')\n",
    "    tx_amount = int(input('Masukan Jumlah Transaksi : '))\n",
    "    tx_type = input('Masukan Tipe Transaksi (Buy/Sell) : ')\n",
    "    \n",
    "    for i in range(len(df)):\n",
    "        \n",
    "        if((df['id'][i] == id) & (df['insert_time'][i] == insert_time)):\n",
    "            counterId += 1\n",
    "            counterInsertTime += 1\n",
    "        elif((df['id'][i] == id) & (df['insert_time'][i] != insert_time)):\n",
    "            counterId += 1\n",
    "    \n",
    "         \n",
    "    if((counterId % 2 == 0) & (counterInsertTime % 2 == 0)):\n",
    "        if(df.empty):\n",
    "            status = 'Open'\n",
    "     \n",
    "        status = 'Open'\n",
    "      \n",
    "    if((counterId % 2 == 1) & (counterInsertTime % 2 == 0)):\n",
    "        status = 'Open'\n",
    "      \n",
    "    if((counterId % 2 == 1) & (counterInsertTime % 2 == 1)):\n",
    "        status = 'Close'\n",
    "        \n",
    "    if((counterId % 2 == 0) & (counterInsertTime % 2 == 1)):\n",
    "        status = 'Close'\n",
    "        \n",
    "            \n",
    "    \n",
    "    listData = []\n",
    "    listData.append(id)\n",
    "    listData.append(insert_time)\n",
    "    listData.append(tx_amount)\n",
    "    listData.append(tx_type)\n",
    "    listData.append(status)\n",
    "    \n",
    "    return listData"
   ]
  },
  {
   "cell_type": "markdown",
   "id": "77766d89",
   "metadata": {},
   "source": [
    "# Step to Input Data\n",
    "\n",
    "**Notes : Re-run this step to input more data (if needed)**"
   ]
  },
  {
   "cell_type": "code",
   "execution_count": 48,
   "id": "e98bc081",
   "metadata": {
    "ExecuteTime": {
     "end_time": "2021-06-26T04:05:08.607664Z",
     "start_time": "2021-06-26T04:04:49.751857Z"
    }
   },
   "outputs": [
    {
     "name": "stdout",
     "output_type": "stream",
     "text": [
      "Masukan Id : 6\n",
      "Masukan Tanggal (dd/mm/yyyy) : 03/01/2021\n",
      "Masukan Jumlah Transaksi : 20\n",
      "Masukan Tipe Transaksi (Buy/Sell) : Buy\n"
     ]
    }
   ],
   "source": [
    "data = InputData() "
   ]
  },
  {
   "cell_type": "markdown",
   "id": "c532694e",
   "metadata": {},
   "source": [
    "## Show input data"
   ]
  },
  {
   "cell_type": "code",
   "execution_count": 49,
   "id": "44bcb0f5",
   "metadata": {
    "ExecuteTime": {
     "end_time": "2021-06-26T04:05:09.791305Z",
     "start_time": "2021-06-26T04:05:09.779301Z"
    }
   },
   "outputs": [
    {
     "data": {
      "text/plain": [
       "[6, '03/01/2021', 20, 'Buy', 'Open']"
      ]
     },
     "execution_count": 49,
     "metadata": {},
     "output_type": "execute_result"
    }
   ],
   "source": [
    "data"
   ]
  },
  {
   "cell_type": "markdown",
   "id": "746fcdd4",
   "metadata": {},
   "source": [
    "# Insert Data to Dataframe"
   ]
  },
  {
   "cell_type": "code",
   "execution_count": 50,
   "id": "c71bc566",
   "metadata": {
    "ExecuteTime": {
     "end_time": "2021-06-26T04:05:10.045865Z",
     "start_time": "2021-06-26T04:05:10.032862Z"
    }
   },
   "outputs": [],
   "source": [
    "df.loc[len(df)] = data"
   ]
  },
  {
   "cell_type": "markdown",
   "id": "46578910",
   "metadata": {},
   "source": [
    "# Show current Dataframe"
   ]
  },
  {
   "cell_type": "code",
   "execution_count": 77,
   "id": "625fb42b",
   "metadata": {
    "ExecuteTime": {
     "end_time": "2021-06-26T04:16:40.943876Z",
     "start_time": "2021-06-26T04:16:40.922866Z"
    }
   },
   "outputs": [
    {
     "data": {
      "text/html": [
       "<div>\n",
       "<style scoped>\n",
       "    .dataframe tbody tr th:only-of-type {\n",
       "        vertical-align: middle;\n",
       "    }\n",
       "\n",
       "    .dataframe tbody tr th {\n",
       "        vertical-align: top;\n",
       "    }\n",
       "\n",
       "    .dataframe thead th {\n",
       "        text-align: right;\n",
       "    }\n",
       "</style>\n",
       "<table border=\"1\" class=\"dataframe\">\n",
       "  <thead>\n",
       "    <tr style=\"text-align: right;\">\n",
       "      <th></th>\n",
       "      <th>id</th>\n",
       "      <th>insert_time</th>\n",
       "      <th>tx_amount</th>\n",
       "      <th>tx_type</th>\n",
       "      <th>status</th>\n",
       "    </tr>\n",
       "  </thead>\n",
       "  <tbody>\n",
       "    <tr>\n",
       "      <th>0</th>\n",
       "      <td>1</td>\n",
       "      <td>01/01/2021</td>\n",
       "      <td>100</td>\n",
       "      <td>Buy</td>\n",
       "      <td>Open</td>\n",
       "    </tr>\n",
       "    <tr>\n",
       "      <th>1</th>\n",
       "      <td>1</td>\n",
       "      <td>01/01/2021</td>\n",
       "      <td>100</td>\n",
       "      <td>Buy</td>\n",
       "      <td>Close</td>\n",
       "    </tr>\n",
       "    <tr>\n",
       "      <th>2</th>\n",
       "      <td>1</td>\n",
       "      <td>01/01/2021</td>\n",
       "      <td>100</td>\n",
       "      <td>Buy</td>\n",
       "      <td>Open</td>\n",
       "    </tr>\n",
       "    <tr>\n",
       "      <th>3</th>\n",
       "      <td>1</td>\n",
       "      <td>02/01/2021</td>\n",
       "      <td>200</td>\n",
       "      <td>Sell</td>\n",
       "      <td>Open</td>\n",
       "    </tr>\n",
       "    <tr>\n",
       "      <th>4</th>\n",
       "      <td>2</td>\n",
       "      <td>02/01/2021</td>\n",
       "      <td>100</td>\n",
       "      <td>Buy</td>\n",
       "      <td>Open</td>\n",
       "    </tr>\n",
       "    <tr>\n",
       "      <th>5</th>\n",
       "      <td>2</td>\n",
       "      <td>01/01/2021</td>\n",
       "      <td>300</td>\n",
       "      <td>Sell</td>\n",
       "      <td>Open</td>\n",
       "    </tr>\n",
       "    <tr>\n",
       "      <th>6</th>\n",
       "      <td>1</td>\n",
       "      <td>01/01/2021</td>\n",
       "      <td>10</td>\n",
       "      <td>Buy</td>\n",
       "      <td>Close</td>\n",
       "    </tr>\n",
       "    <tr>\n",
       "      <th>7</th>\n",
       "      <td>2</td>\n",
       "      <td>01/01/2021</td>\n",
       "      <td>10</td>\n",
       "      <td>Sell</td>\n",
       "      <td>Close</td>\n",
       "    </tr>\n",
       "    <tr>\n",
       "      <th>8</th>\n",
       "      <td>3</td>\n",
       "      <td>02/01/2021</td>\n",
       "      <td>10</td>\n",
       "      <td>Buy</td>\n",
       "      <td>Open</td>\n",
       "    </tr>\n",
       "    <tr>\n",
       "      <th>9</th>\n",
       "      <td>4</td>\n",
       "      <td>02/01/2021</td>\n",
       "      <td>10</td>\n",
       "      <td>Sell</td>\n",
       "      <td>Open</td>\n",
       "    </tr>\n",
       "    <tr>\n",
       "      <th>10</th>\n",
       "      <td>5</td>\n",
       "      <td>03/01/2021</td>\n",
       "      <td>20</td>\n",
       "      <td>Sell</td>\n",
       "      <td>Open</td>\n",
       "    </tr>\n",
       "    <tr>\n",
       "      <th>11</th>\n",
       "      <td>6</td>\n",
       "      <td>03/01/2021</td>\n",
       "      <td>20</td>\n",
       "      <td>Buy</td>\n",
       "      <td>Open</td>\n",
       "    </tr>\n",
       "  </tbody>\n",
       "</table>\n",
       "</div>"
      ],
      "text/plain": [
       "   id insert_time tx_amount tx_type status\n",
       "0   1  01/01/2021       100     Buy   Open\n",
       "1   1  01/01/2021       100     Buy  Close\n",
       "2   1  01/01/2021       100     Buy   Open\n",
       "3   1  02/01/2021       200    Sell   Open\n",
       "4   2  02/01/2021       100     Buy   Open\n",
       "5   2  01/01/2021       300    Sell   Open\n",
       "6   1  01/01/2021        10     Buy  Close\n",
       "7   2  01/01/2021        10    Sell  Close\n",
       "8   3  02/01/2021        10     Buy   Open\n",
       "9   4  02/01/2021        10    Sell   Open\n",
       "10  5  03/01/2021        20    Sell   Open\n",
       "11  6  03/01/2021        20     Buy   Open"
      ]
     },
     "execution_count": 77,
     "metadata": {},
     "output_type": "execute_result"
    }
   ],
   "source": [
    "df"
   ]
  },
  {
   "cell_type": "code",
   "execution_count": 85,
   "id": "5705b204",
   "metadata": {
    "ExecuteTime": {
     "end_time": "2021-06-26T04:20:19.460905Z",
     "start_time": "2021-06-26T04:20:19.450903Z"
    }
   },
   "outputs": [
    {
     "name": "stdout",
     "output_type": "stream",
     "text": [
      "Convert Success\n"
     ]
    }
   ],
   "source": [
    "#Convert Dataframe to CSV\n",
    "df.to_csv('MainDf_Answer1.csv', index=False)\n",
    "print('Convert Success')"
   ]
  },
  {
   "cell_type": "markdown",
   "id": "8813ccb0",
   "metadata": {},
   "source": [
    "# View Current Updated Transaction of each Customer"
   ]
  },
  {
   "cell_type": "markdown",
   "id": "12d545b3",
   "metadata": {},
   "source": [
    "## Sorted Dataframe by insert_time"
   ]
  },
  {
   "cell_type": "code",
   "execution_count": 80,
   "id": "8d5b4f49",
   "metadata": {
    "ExecuteTime": {
     "end_time": "2021-06-26T04:17:10.309192Z",
     "start_time": "2021-06-26T04:17:10.292189Z"
    }
   },
   "outputs": [
    {
     "data": {
      "text/html": [
       "<div>\n",
       "<style scoped>\n",
       "    .dataframe tbody tr th:only-of-type {\n",
       "        vertical-align: middle;\n",
       "    }\n",
       "\n",
       "    .dataframe tbody tr th {\n",
       "        vertical-align: top;\n",
       "    }\n",
       "\n",
       "    .dataframe thead th {\n",
       "        text-align: right;\n",
       "    }\n",
       "</style>\n",
       "<table border=\"1\" class=\"dataframe\">\n",
       "  <thead>\n",
       "    <tr style=\"text-align: right;\">\n",
       "      <th></th>\n",
       "      <th>id</th>\n",
       "      <th>insert_time</th>\n",
       "      <th>tx_amount</th>\n",
       "      <th>tx_type</th>\n",
       "      <th>status</th>\n",
       "    </tr>\n",
       "  </thead>\n",
       "  <tbody>\n",
       "    <tr>\n",
       "      <th>11</th>\n",
       "      <td>6</td>\n",
       "      <td>03/01/2021</td>\n",
       "      <td>20</td>\n",
       "      <td>Buy</td>\n",
       "      <td>Open</td>\n",
       "    </tr>\n",
       "    <tr>\n",
       "      <th>10</th>\n",
       "      <td>5</td>\n",
       "      <td>03/01/2021</td>\n",
       "      <td>20</td>\n",
       "      <td>Sell</td>\n",
       "      <td>Open</td>\n",
       "    </tr>\n",
       "    <tr>\n",
       "      <th>9</th>\n",
       "      <td>4</td>\n",
       "      <td>02/01/2021</td>\n",
       "      <td>10</td>\n",
       "      <td>Sell</td>\n",
       "      <td>Open</td>\n",
       "    </tr>\n",
       "    <tr>\n",
       "      <th>8</th>\n",
       "      <td>3</td>\n",
       "      <td>02/01/2021</td>\n",
       "      <td>10</td>\n",
       "      <td>Buy</td>\n",
       "      <td>Open</td>\n",
       "    </tr>\n",
       "    <tr>\n",
       "      <th>4</th>\n",
       "      <td>2</td>\n",
       "      <td>02/01/2021</td>\n",
       "      <td>100</td>\n",
       "      <td>Buy</td>\n",
       "      <td>Open</td>\n",
       "    </tr>\n",
       "    <tr>\n",
       "      <th>3</th>\n",
       "      <td>1</td>\n",
       "      <td>02/01/2021</td>\n",
       "      <td>200</td>\n",
       "      <td>Sell</td>\n",
       "      <td>Open</td>\n",
       "    </tr>\n",
       "    <tr>\n",
       "      <th>5</th>\n",
       "      <td>2</td>\n",
       "      <td>01/01/2021</td>\n",
       "      <td>300</td>\n",
       "      <td>Sell</td>\n",
       "      <td>Open</td>\n",
       "    </tr>\n",
       "    <tr>\n",
       "      <th>7</th>\n",
       "      <td>2</td>\n",
       "      <td>01/01/2021</td>\n",
       "      <td>10</td>\n",
       "      <td>Sell</td>\n",
       "      <td>Close</td>\n",
       "    </tr>\n",
       "    <tr>\n",
       "      <th>0</th>\n",
       "      <td>1</td>\n",
       "      <td>01/01/2021</td>\n",
       "      <td>100</td>\n",
       "      <td>Buy</td>\n",
       "      <td>Open</td>\n",
       "    </tr>\n",
       "    <tr>\n",
       "      <th>1</th>\n",
       "      <td>1</td>\n",
       "      <td>01/01/2021</td>\n",
       "      <td>100</td>\n",
       "      <td>Buy</td>\n",
       "      <td>Close</td>\n",
       "    </tr>\n",
       "    <tr>\n",
       "      <th>2</th>\n",
       "      <td>1</td>\n",
       "      <td>01/01/2021</td>\n",
       "      <td>100</td>\n",
       "      <td>Buy</td>\n",
       "      <td>Open</td>\n",
       "    </tr>\n",
       "    <tr>\n",
       "      <th>6</th>\n",
       "      <td>1</td>\n",
       "      <td>01/01/2021</td>\n",
       "      <td>10</td>\n",
       "      <td>Buy</td>\n",
       "      <td>Close</td>\n",
       "    </tr>\n",
       "  </tbody>\n",
       "</table>\n",
       "</div>"
      ],
      "text/plain": [
       "   id insert_time tx_amount tx_type status\n",
       "11  6  03/01/2021        20     Buy   Open\n",
       "10  5  03/01/2021        20    Sell   Open\n",
       "9   4  02/01/2021        10    Sell   Open\n",
       "8   3  02/01/2021        10     Buy   Open\n",
       "4   2  02/01/2021       100     Buy   Open\n",
       "3   1  02/01/2021       200    Sell   Open\n",
       "5   2  01/01/2021       300    Sell   Open\n",
       "7   2  01/01/2021        10    Sell  Close\n",
       "0   1  01/01/2021       100     Buy   Open\n",
       "1   1  01/01/2021       100     Buy  Close\n",
       "2   1  01/01/2021       100     Buy   Open\n",
       "6   1  01/01/2021        10     Buy  Close"
      ]
     },
     "execution_count": 80,
     "metadata": {},
     "output_type": "execute_result"
    }
   ],
   "source": [
    "dfSorted = df.sort_values(by=['insert_time','id'], ascending = False)\n",
    "dfSorted"
   ]
  },
  {
   "cell_type": "markdown",
   "id": "011e6695",
   "metadata": {},
   "source": [
    "# Delete duplicate transaction by insert_time"
   ]
  },
  {
   "cell_type": "code",
   "execution_count": 81,
   "id": "1e27ffd4",
   "metadata": {
    "ExecuteTime": {
     "end_time": "2021-06-26T04:17:24.412919Z",
     "start_time": "2021-06-26T04:17:24.394916Z"
    }
   },
   "outputs": [],
   "source": [
    "dfSorted.drop_duplicates(subset='id', inplace=True)"
   ]
  },
  {
   "cell_type": "code",
   "execution_count": 82,
   "id": "ce511198",
   "metadata": {
    "ExecuteTime": {
     "end_time": "2021-06-26T04:17:35.686205Z",
     "start_time": "2021-06-26T04:17:35.665200Z"
    }
   },
   "outputs": [
    {
     "data": {
      "text/html": [
       "<div>\n",
       "<style scoped>\n",
       "    .dataframe tbody tr th:only-of-type {\n",
       "        vertical-align: middle;\n",
       "    }\n",
       "\n",
       "    .dataframe tbody tr th {\n",
       "        vertical-align: top;\n",
       "    }\n",
       "\n",
       "    .dataframe thead th {\n",
       "        text-align: right;\n",
       "    }\n",
       "</style>\n",
       "<table border=\"1\" class=\"dataframe\">\n",
       "  <thead>\n",
       "    <tr style=\"text-align: right;\">\n",
       "      <th></th>\n",
       "      <th>id</th>\n",
       "      <th>insert_time</th>\n",
       "      <th>tx_amount</th>\n",
       "      <th>tx_type</th>\n",
       "      <th>status</th>\n",
       "    </tr>\n",
       "  </thead>\n",
       "  <tbody>\n",
       "    <tr>\n",
       "      <th>11</th>\n",
       "      <td>6</td>\n",
       "      <td>03/01/2021</td>\n",
       "      <td>20</td>\n",
       "      <td>Buy</td>\n",
       "      <td>Open</td>\n",
       "    </tr>\n",
       "    <tr>\n",
       "      <th>10</th>\n",
       "      <td>5</td>\n",
       "      <td>03/01/2021</td>\n",
       "      <td>20</td>\n",
       "      <td>Sell</td>\n",
       "      <td>Open</td>\n",
       "    </tr>\n",
       "    <tr>\n",
       "      <th>9</th>\n",
       "      <td>4</td>\n",
       "      <td>02/01/2021</td>\n",
       "      <td>10</td>\n",
       "      <td>Sell</td>\n",
       "      <td>Open</td>\n",
       "    </tr>\n",
       "    <tr>\n",
       "      <th>8</th>\n",
       "      <td>3</td>\n",
       "      <td>02/01/2021</td>\n",
       "      <td>10</td>\n",
       "      <td>Buy</td>\n",
       "      <td>Open</td>\n",
       "    </tr>\n",
       "    <tr>\n",
       "      <th>4</th>\n",
       "      <td>2</td>\n",
       "      <td>02/01/2021</td>\n",
       "      <td>100</td>\n",
       "      <td>Buy</td>\n",
       "      <td>Open</td>\n",
       "    </tr>\n",
       "    <tr>\n",
       "      <th>3</th>\n",
       "      <td>1</td>\n",
       "      <td>02/01/2021</td>\n",
       "      <td>200</td>\n",
       "      <td>Sell</td>\n",
       "      <td>Open</td>\n",
       "    </tr>\n",
       "  </tbody>\n",
       "</table>\n",
       "</div>"
      ],
      "text/plain": [
       "   id insert_time tx_amount tx_type status\n",
       "11  6  03/01/2021        20     Buy   Open\n",
       "10  5  03/01/2021        20    Sell   Open\n",
       "9   4  02/01/2021        10    Sell   Open\n",
       "8   3  02/01/2021        10     Buy   Open\n",
       "4   2  02/01/2021       100     Buy   Open\n",
       "3   1  02/01/2021       200    Sell   Open"
      ]
     },
     "execution_count": 82,
     "metadata": {},
     "output_type": "execute_result"
    }
   ],
   "source": [
    "dfSorted"
   ]
  },
  {
   "cell_type": "markdown",
   "id": "e5b82984",
   "metadata": {},
   "source": [
    "## Reset Index"
   ]
  },
  {
   "cell_type": "code",
   "execution_count": 83,
   "id": "de203367",
   "metadata": {
    "ExecuteTime": {
     "end_time": "2021-06-26T04:17:58.949973Z",
     "start_time": "2021-06-26T04:17:58.930968Z"
    }
   },
   "outputs": [],
   "source": [
    "dfSorted = dfSorted.reset_index(drop=True)"
   ]
  },
  {
   "cell_type": "code",
   "execution_count": 84,
   "id": "136a46ac",
   "metadata": {
    "ExecuteTime": {
     "end_time": "2021-06-26T04:17:59.556110Z",
     "start_time": "2021-06-26T04:17:59.539106Z"
    }
   },
   "outputs": [
    {
     "data": {
      "text/html": [
       "<div>\n",
       "<style scoped>\n",
       "    .dataframe tbody tr th:only-of-type {\n",
       "        vertical-align: middle;\n",
       "    }\n",
       "\n",
       "    .dataframe tbody tr th {\n",
       "        vertical-align: top;\n",
       "    }\n",
       "\n",
       "    .dataframe thead th {\n",
       "        text-align: right;\n",
       "    }\n",
       "</style>\n",
       "<table border=\"1\" class=\"dataframe\">\n",
       "  <thead>\n",
       "    <tr style=\"text-align: right;\">\n",
       "      <th></th>\n",
       "      <th>id</th>\n",
       "      <th>insert_time</th>\n",
       "      <th>tx_amount</th>\n",
       "      <th>tx_type</th>\n",
       "      <th>status</th>\n",
       "    </tr>\n",
       "  </thead>\n",
       "  <tbody>\n",
       "    <tr>\n",
       "      <th>0</th>\n",
       "      <td>6</td>\n",
       "      <td>03/01/2021</td>\n",
       "      <td>20</td>\n",
       "      <td>Buy</td>\n",
       "      <td>Open</td>\n",
       "    </tr>\n",
       "    <tr>\n",
       "      <th>1</th>\n",
       "      <td>5</td>\n",
       "      <td>03/01/2021</td>\n",
       "      <td>20</td>\n",
       "      <td>Sell</td>\n",
       "      <td>Open</td>\n",
       "    </tr>\n",
       "    <tr>\n",
       "      <th>2</th>\n",
       "      <td>4</td>\n",
       "      <td>02/01/2021</td>\n",
       "      <td>10</td>\n",
       "      <td>Sell</td>\n",
       "      <td>Open</td>\n",
       "    </tr>\n",
       "    <tr>\n",
       "      <th>3</th>\n",
       "      <td>3</td>\n",
       "      <td>02/01/2021</td>\n",
       "      <td>10</td>\n",
       "      <td>Buy</td>\n",
       "      <td>Open</td>\n",
       "    </tr>\n",
       "    <tr>\n",
       "      <th>4</th>\n",
       "      <td>2</td>\n",
       "      <td>02/01/2021</td>\n",
       "      <td>100</td>\n",
       "      <td>Buy</td>\n",
       "      <td>Open</td>\n",
       "    </tr>\n",
       "    <tr>\n",
       "      <th>5</th>\n",
       "      <td>1</td>\n",
       "      <td>02/01/2021</td>\n",
       "      <td>200</td>\n",
       "      <td>Sell</td>\n",
       "      <td>Open</td>\n",
       "    </tr>\n",
       "  </tbody>\n",
       "</table>\n",
       "</div>"
      ],
      "text/plain": [
       "  id insert_time tx_amount tx_type status\n",
       "0  6  03/01/2021        20     Buy   Open\n",
       "1  5  03/01/2021        20    Sell   Open\n",
       "2  4  02/01/2021        10    Sell   Open\n",
       "3  3  02/01/2021        10     Buy   Open\n",
       "4  2  02/01/2021       100     Buy   Open\n",
       "5  1  02/01/2021       200    Sell   Open"
      ]
     },
     "execution_count": 84,
     "metadata": {},
     "output_type": "execute_result"
    }
   ],
   "source": [
    "dfSorted"
   ]
  },
  {
   "cell_type": "code",
   "execution_count": 86,
   "id": "c6adcac9",
   "metadata": {
    "ExecuteTime": {
     "end_time": "2021-06-26T04:21:23.183884Z",
     "start_time": "2021-06-26T04:21:23.178883Z"
    }
   },
   "outputs": [
    {
     "name": "stdout",
     "output_type": "stream",
     "text": [
      "Convert Success\n"
     ]
    }
   ],
   "source": [
    "#Convert Dataframe to CSV\n",
    "dfSorted.to_csv('DfCurrentTransaction.csv', index=False)\n",
    "print('Convert Success')"
   ]
  },
  {
   "cell_type": "code",
   "execution_count": null,
   "id": "6dd20d9f",
   "metadata": {},
   "outputs": [],
   "source": []
  }
 ],
 "metadata": {
  "kernelspec": {
   "display_name": "Python 3",
   "language": "python",
   "name": "python3"
  },
  "language_info": {
   "codemirror_mode": {
    "name": "ipython",
    "version": 3
   },
   "file_extension": ".py",
   "mimetype": "text/x-python",
   "name": "python",
   "nbconvert_exporter": "python",
   "pygments_lexer": "ipython3",
   "version": "3.8.8"
  },
  "toc": {
   "base_numbering": 1,
   "nav_menu": {},
   "number_sections": true,
   "sideBar": true,
   "skip_h1_title": false,
   "title_cell": "Table of Contents",
   "title_sidebar": "Contents",
   "toc_cell": false,
   "toc_position": {},
   "toc_section_display": true,
   "toc_window_display": false
  }
 },
 "nbformat": 4,
 "nbformat_minor": 5
}
