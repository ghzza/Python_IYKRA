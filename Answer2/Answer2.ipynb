{
 "cells": [
  {
   "cell_type": "markdown",
   "id": "c8b0971e",
   "metadata": {},
   "source": [
    "# Create Dataframe"
   ]
  },
  {
   "cell_type": "code",
   "execution_count": 1,
   "id": "358518c2",
   "metadata": {
    "ExecuteTime": {
     "end_time": "2021-06-26T03:51:41.955674Z",
     "start_time": "2021-06-26T03:51:40.522525Z"
    }
   },
   "outputs": [],
   "source": [
    "import pandas as pd"
   ]
  },
  {
   "cell_type": "code",
   "execution_count": 2,
   "id": "26018054",
   "metadata": {
    "ExecuteTime": {
     "end_time": "2021-06-26T03:51:41.971678Z",
     "start_time": "2021-06-26T03:51:41.956674Z"
    }
   },
   "outputs": [],
   "source": [
    "data = {'Date':['01/01/21','02/01/21','02/01/21','02/01/21','03/01/21','03/01/21','04/01/21','04/01/21','05/01/21','06/01/21','07/01/21','08/01/21'], 'Sales':[100,34,123,134,145,24,541,636,322,242,22,46]}"
   ]
  },
  {
   "cell_type": "code",
   "execution_count": 3,
   "id": "7af86529",
   "metadata": {
    "ExecuteTime": {
     "end_time": "2021-06-26T03:51:42.003685Z",
     "start_time": "2021-06-26T03:51:41.972678Z"
    }
   },
   "outputs": [
    {
     "data": {
      "text/html": [
       "<div>\n",
       "<style scoped>\n",
       "    .dataframe tbody tr th:only-of-type {\n",
       "        vertical-align: middle;\n",
       "    }\n",
       "\n",
       "    .dataframe tbody tr th {\n",
       "        vertical-align: top;\n",
       "    }\n",
       "\n",
       "    .dataframe thead th {\n",
       "        text-align: right;\n",
       "    }\n",
       "</style>\n",
       "<table border=\"1\" class=\"dataframe\">\n",
       "  <thead>\n",
       "    <tr style=\"text-align: right;\">\n",
       "      <th></th>\n",
       "      <th>Date</th>\n",
       "      <th>Sales</th>\n",
       "    </tr>\n",
       "  </thead>\n",
       "  <tbody>\n",
       "    <tr>\n",
       "      <th>0</th>\n",
       "      <td>01/01/21</td>\n",
       "      <td>100</td>\n",
       "    </tr>\n",
       "    <tr>\n",
       "      <th>1</th>\n",
       "      <td>02/01/21</td>\n",
       "      <td>34</td>\n",
       "    </tr>\n",
       "    <tr>\n",
       "      <th>2</th>\n",
       "      <td>02/01/21</td>\n",
       "      <td>123</td>\n",
       "    </tr>\n",
       "    <tr>\n",
       "      <th>3</th>\n",
       "      <td>02/01/21</td>\n",
       "      <td>134</td>\n",
       "    </tr>\n",
       "    <tr>\n",
       "      <th>4</th>\n",
       "      <td>03/01/21</td>\n",
       "      <td>145</td>\n",
       "    </tr>\n",
       "    <tr>\n",
       "      <th>5</th>\n",
       "      <td>03/01/21</td>\n",
       "      <td>24</td>\n",
       "    </tr>\n",
       "    <tr>\n",
       "      <th>6</th>\n",
       "      <td>04/01/21</td>\n",
       "      <td>541</td>\n",
       "    </tr>\n",
       "    <tr>\n",
       "      <th>7</th>\n",
       "      <td>04/01/21</td>\n",
       "      <td>636</td>\n",
       "    </tr>\n",
       "    <tr>\n",
       "      <th>8</th>\n",
       "      <td>05/01/21</td>\n",
       "      <td>322</td>\n",
       "    </tr>\n",
       "    <tr>\n",
       "      <th>9</th>\n",
       "      <td>06/01/21</td>\n",
       "      <td>242</td>\n",
       "    </tr>\n",
       "    <tr>\n",
       "      <th>10</th>\n",
       "      <td>07/01/21</td>\n",
       "      <td>22</td>\n",
       "    </tr>\n",
       "    <tr>\n",
       "      <th>11</th>\n",
       "      <td>08/01/21</td>\n",
       "      <td>46</td>\n",
       "    </tr>\n",
       "  </tbody>\n",
       "</table>\n",
       "</div>"
      ],
      "text/plain": [
       "        Date  Sales\n",
       "0   01/01/21    100\n",
       "1   02/01/21     34\n",
       "2   02/01/21    123\n",
       "3   02/01/21    134\n",
       "4   03/01/21    145\n",
       "5   03/01/21     24\n",
       "6   04/01/21    541\n",
       "7   04/01/21    636\n",
       "8   05/01/21    322\n",
       "9   06/01/21    242\n",
       "10  07/01/21     22\n",
       "11  08/01/21     46"
      ]
     },
     "execution_count": 3,
     "metadata": {},
     "output_type": "execute_result"
    }
   ],
   "source": [
    "#create dataframe\n",
    "\n",
    "df = pd.DataFrame(data)\n",
    "df"
   ]
  },
  {
   "cell_type": "markdown",
   "id": "6b8f8243",
   "metadata": {},
   "source": [
    "## sum the dataframe with grouping by Date"
   ]
  },
  {
   "cell_type": "code",
   "execution_count": 4,
   "id": "b7db4ba6",
   "metadata": {
    "ExecuteTime": {
     "end_time": "2021-06-26T03:51:42.019688Z",
     "start_time": "2021-06-26T03:51:42.005685Z"
    }
   },
   "outputs": [
    {
     "data": {
      "text/html": [
       "<div>\n",
       "<style scoped>\n",
       "    .dataframe tbody tr th:only-of-type {\n",
       "        vertical-align: middle;\n",
       "    }\n",
       "\n",
       "    .dataframe tbody tr th {\n",
       "        vertical-align: top;\n",
       "    }\n",
       "\n",
       "    .dataframe thead th {\n",
       "        text-align: right;\n",
       "    }\n",
       "</style>\n",
       "<table border=\"1\" class=\"dataframe\">\n",
       "  <thead>\n",
       "    <tr style=\"text-align: right;\">\n",
       "      <th></th>\n",
       "      <th>Sales</th>\n",
       "    </tr>\n",
       "    <tr>\n",
       "      <th>Date</th>\n",
       "      <th></th>\n",
       "    </tr>\n",
       "  </thead>\n",
       "  <tbody>\n",
       "    <tr>\n",
       "      <th>01/01/21</th>\n",
       "      <td>100</td>\n",
       "    </tr>\n",
       "    <tr>\n",
       "      <th>02/01/21</th>\n",
       "      <td>291</td>\n",
       "    </tr>\n",
       "    <tr>\n",
       "      <th>03/01/21</th>\n",
       "      <td>169</td>\n",
       "    </tr>\n",
       "    <tr>\n",
       "      <th>04/01/21</th>\n",
       "      <td>1177</td>\n",
       "    </tr>\n",
       "    <tr>\n",
       "      <th>05/01/21</th>\n",
       "      <td>322</td>\n",
       "    </tr>\n",
       "    <tr>\n",
       "      <th>06/01/21</th>\n",
       "      <td>242</td>\n",
       "    </tr>\n",
       "    <tr>\n",
       "      <th>07/01/21</th>\n",
       "      <td>22</td>\n",
       "    </tr>\n",
       "    <tr>\n",
       "      <th>08/01/21</th>\n",
       "      <td>46</td>\n",
       "    </tr>\n",
       "  </tbody>\n",
       "</table>\n",
       "</div>"
      ],
      "text/plain": [
       "          Sales\n",
       "Date           \n",
       "01/01/21    100\n",
       "02/01/21    291\n",
       "03/01/21    169\n",
       "04/01/21   1177\n",
       "05/01/21    322\n",
       "06/01/21    242\n",
       "07/01/21     22\n",
       "08/01/21     46"
      ]
     },
     "execution_count": 4,
     "metadata": {},
     "output_type": "execute_result"
    }
   ],
   "source": [
    "df = df.groupby(['Date']).sum()\n",
    "df"
   ]
  },
  {
   "cell_type": "markdown",
   "id": "6b3c10b5",
   "metadata": {},
   "source": [
    "# Sum of Rolling Window by 2 Days"
   ]
  },
  {
   "cell_type": "code",
   "execution_count": 5,
   "id": "bb6cf05f",
   "metadata": {
    "ExecuteTime": {
     "end_time": "2021-06-26T03:51:42.035691Z",
     "start_time": "2021-06-26T03:51:42.021689Z"
    }
   },
   "outputs": [],
   "source": [
    "df2 = df.rolling(2).sum()"
   ]
  },
  {
   "cell_type": "code",
   "execution_count": 6,
   "id": "a299be14",
   "metadata": {
    "ExecuteTime": {
     "end_time": "2021-06-26T03:51:42.051695Z",
     "start_time": "2021-06-26T03:51:42.037692Z"
    }
   },
   "outputs": [
    {
     "data": {
      "text/html": [
       "<div>\n",
       "<style scoped>\n",
       "    .dataframe tbody tr th:only-of-type {\n",
       "        vertical-align: middle;\n",
       "    }\n",
       "\n",
       "    .dataframe tbody tr th {\n",
       "        vertical-align: top;\n",
       "    }\n",
       "\n",
       "    .dataframe thead th {\n",
       "        text-align: right;\n",
       "    }\n",
       "</style>\n",
       "<table border=\"1\" class=\"dataframe\">\n",
       "  <thead>\n",
       "    <tr style=\"text-align: right;\">\n",
       "      <th></th>\n",
       "      <th>Sales</th>\n",
       "    </tr>\n",
       "    <tr>\n",
       "      <th>Date</th>\n",
       "      <th></th>\n",
       "    </tr>\n",
       "  </thead>\n",
       "  <tbody>\n",
       "    <tr>\n",
       "      <th>01/01/21</th>\n",
       "      <td>NaN</td>\n",
       "    </tr>\n",
       "    <tr>\n",
       "      <th>02/01/21</th>\n",
       "      <td>391.0</td>\n",
       "    </tr>\n",
       "    <tr>\n",
       "      <th>03/01/21</th>\n",
       "      <td>460.0</td>\n",
       "    </tr>\n",
       "    <tr>\n",
       "      <th>04/01/21</th>\n",
       "      <td>1346.0</td>\n",
       "    </tr>\n",
       "    <tr>\n",
       "      <th>05/01/21</th>\n",
       "      <td>1499.0</td>\n",
       "    </tr>\n",
       "    <tr>\n",
       "      <th>06/01/21</th>\n",
       "      <td>564.0</td>\n",
       "    </tr>\n",
       "    <tr>\n",
       "      <th>07/01/21</th>\n",
       "      <td>264.0</td>\n",
       "    </tr>\n",
       "    <tr>\n",
       "      <th>08/01/21</th>\n",
       "      <td>68.0</td>\n",
       "    </tr>\n",
       "  </tbody>\n",
       "</table>\n",
       "</div>"
      ],
      "text/plain": [
       "           Sales\n",
       "Date            \n",
       "01/01/21     NaN\n",
       "02/01/21   391.0\n",
       "03/01/21   460.0\n",
       "04/01/21  1346.0\n",
       "05/01/21  1499.0\n",
       "06/01/21   564.0\n",
       "07/01/21   264.0\n",
       "08/01/21    68.0"
      ]
     },
     "execution_count": 6,
     "metadata": {},
     "output_type": "execute_result"
    }
   ],
   "source": [
    "df2"
   ]
  },
  {
   "cell_type": "markdown",
   "id": "bc143d75",
   "metadata": {},
   "source": [
    "# Sum of Rolling Window by 3 Days"
   ]
  },
  {
   "cell_type": "code",
   "execution_count": 7,
   "id": "c99fffdc",
   "metadata": {
    "ExecuteTime": {
     "end_time": "2021-06-26T03:51:42.067699Z",
     "start_time": "2021-06-26T03:51:42.054696Z"
    }
   },
   "outputs": [
    {
     "data": {
      "text/html": [
       "<div>\n",
       "<style scoped>\n",
       "    .dataframe tbody tr th:only-of-type {\n",
       "        vertical-align: middle;\n",
       "    }\n",
       "\n",
       "    .dataframe tbody tr th {\n",
       "        vertical-align: top;\n",
       "    }\n",
       "\n",
       "    .dataframe thead th {\n",
       "        text-align: right;\n",
       "    }\n",
       "</style>\n",
       "<table border=\"1\" class=\"dataframe\">\n",
       "  <thead>\n",
       "    <tr style=\"text-align: right;\">\n",
       "      <th></th>\n",
       "      <th>Sales</th>\n",
       "    </tr>\n",
       "    <tr>\n",
       "      <th>Date</th>\n",
       "      <th></th>\n",
       "    </tr>\n",
       "  </thead>\n",
       "  <tbody>\n",
       "    <tr>\n",
       "      <th>01/01/21</th>\n",
       "      <td>NaN</td>\n",
       "    </tr>\n",
       "    <tr>\n",
       "      <th>02/01/21</th>\n",
       "      <td>NaN</td>\n",
       "    </tr>\n",
       "    <tr>\n",
       "      <th>03/01/21</th>\n",
       "      <td>560.0</td>\n",
       "    </tr>\n",
       "    <tr>\n",
       "      <th>04/01/21</th>\n",
       "      <td>1637.0</td>\n",
       "    </tr>\n",
       "    <tr>\n",
       "      <th>05/01/21</th>\n",
       "      <td>1668.0</td>\n",
       "    </tr>\n",
       "    <tr>\n",
       "      <th>06/01/21</th>\n",
       "      <td>1741.0</td>\n",
       "    </tr>\n",
       "    <tr>\n",
       "      <th>07/01/21</th>\n",
       "      <td>586.0</td>\n",
       "    </tr>\n",
       "    <tr>\n",
       "      <th>08/01/21</th>\n",
       "      <td>310.0</td>\n",
       "    </tr>\n",
       "  </tbody>\n",
       "</table>\n",
       "</div>"
      ],
      "text/plain": [
       "           Sales\n",
       "Date            \n",
       "01/01/21     NaN\n",
       "02/01/21     NaN\n",
       "03/01/21   560.0\n",
       "04/01/21  1637.0\n",
       "05/01/21  1668.0\n",
       "06/01/21  1741.0\n",
       "07/01/21   586.0\n",
       "08/01/21   310.0"
      ]
     },
     "execution_count": 7,
     "metadata": {},
     "output_type": "execute_result"
    }
   ],
   "source": [
    "df3 = df.rolling(3).sum()\n",
    "df3"
   ]
  },
  {
   "cell_type": "markdown",
   "id": "d5adc4ba",
   "metadata": {},
   "source": [
    "# Sum of Rolling Window by 4 Days"
   ]
  },
  {
   "cell_type": "code",
   "execution_count": 9,
   "id": "01509155",
   "metadata": {
    "ExecuteTime": {
     "end_time": "2021-06-26T03:52:51.636374Z",
     "start_time": "2021-06-26T03:52:51.620359Z"
    }
   },
   "outputs": [
    {
     "data": {
      "text/html": [
       "<div>\n",
       "<style scoped>\n",
       "    .dataframe tbody tr th:only-of-type {\n",
       "        vertical-align: middle;\n",
       "    }\n",
       "\n",
       "    .dataframe tbody tr th {\n",
       "        vertical-align: top;\n",
       "    }\n",
       "\n",
       "    .dataframe thead th {\n",
       "        text-align: right;\n",
       "    }\n",
       "</style>\n",
       "<table border=\"1\" class=\"dataframe\">\n",
       "  <thead>\n",
       "    <tr style=\"text-align: right;\">\n",
       "      <th></th>\n",
       "      <th>Sales</th>\n",
       "    </tr>\n",
       "    <tr>\n",
       "      <th>Date</th>\n",
       "      <th></th>\n",
       "    </tr>\n",
       "  </thead>\n",
       "  <tbody>\n",
       "    <tr>\n",
       "      <th>01/01/21</th>\n",
       "      <td>NaN</td>\n",
       "    </tr>\n",
       "    <tr>\n",
       "      <th>02/01/21</th>\n",
       "      <td>NaN</td>\n",
       "    </tr>\n",
       "    <tr>\n",
       "      <th>03/01/21</th>\n",
       "      <td>NaN</td>\n",
       "    </tr>\n",
       "    <tr>\n",
       "      <th>04/01/21</th>\n",
       "      <td>1737.0</td>\n",
       "    </tr>\n",
       "    <tr>\n",
       "      <th>05/01/21</th>\n",
       "      <td>1959.0</td>\n",
       "    </tr>\n",
       "    <tr>\n",
       "      <th>06/01/21</th>\n",
       "      <td>1910.0</td>\n",
       "    </tr>\n",
       "    <tr>\n",
       "      <th>07/01/21</th>\n",
       "      <td>1763.0</td>\n",
       "    </tr>\n",
       "    <tr>\n",
       "      <th>08/01/21</th>\n",
       "      <td>632.0</td>\n",
       "    </tr>\n",
       "  </tbody>\n",
       "</table>\n",
       "</div>"
      ],
      "text/plain": [
       "           Sales\n",
       "Date            \n",
       "01/01/21     NaN\n",
       "02/01/21     NaN\n",
       "03/01/21     NaN\n",
       "04/01/21  1737.0\n",
       "05/01/21  1959.0\n",
       "06/01/21  1910.0\n",
       "07/01/21  1763.0\n",
       "08/01/21   632.0"
      ]
     },
     "execution_count": 9,
     "metadata": {},
     "output_type": "execute_result"
    }
   ],
   "source": [
    "df4 = df.rolling(4).sum()\n",
    "df4"
   ]
  },
  {
   "cell_type": "markdown",
   "id": "13c92cbd",
   "metadata": {},
   "source": [
    "# Data Visualization with Time Series"
   ]
  },
  {
   "cell_type": "code",
   "execution_count": 10,
   "id": "1705d5f3",
   "metadata": {
    "ExecuteTime": {
     "end_time": "2021-06-26T03:53:17.913994Z",
     "start_time": "2021-06-26T03:53:17.670940Z"
    }
   },
   "outputs": [
    {
     "data": {
      "text/plain": [
       "<matplotlib.legend.Legend at 0x2153a427550>"
      ]
     },
     "execution_count": 10,
     "metadata": {},
     "output_type": "execute_result"
    },
    {
     "data": {
      "image/png": "[encoded data removed]",
      "text/plain": [
       "<Figure size 1080x720 with 1 Axes>"
      ]
     },
     "metadata": {
      "needs_background": "light"
     },
     "output_type": "display_data"
    }
   ],
   "source": [
    "import matplotlib.pyplot as plt\n",
    "\n",
    "fig, ax = plt.subplots(figsize=(15,10))\n",
    "ax.plot(df)\n",
    "ax.plot(df2)\n",
    "ax.plot(df3)\n",
    "ax.plot(df4)\n",
    "plt.legend(labels = ['df_main','df2_rolling(2)','df3_rolling(3)','df4_rolling(4)'])"
   ]
  },
  {
   "cell_type": "code",
   "execution_count": null,
   "id": "738d1653",
   "metadata": {},
   "outputs": [],
   "source": []
  }
 ],
 "metadata": {
  "kernelspec": {
   "display_name": "Python 3",
   "language": "python",
   "name": "python3"
  },
  "language_info": {
   "codemirror_mode": {
    "name": "ipython",
    "version": 3
   },
   "file_extension": ".py",
   "mimetype": "text/x-python",
   "name": "python",
   "nbconvert_exporter": "python",
   "pygments_lexer": "ipython3",
   "version": "3.8.8"
  },
  "toc": {
   "base_numbering": 1,
   "nav_menu": {},
   "number_sections": true,
   "sideBar": true,
   "skip_h1_title": false,
   "title_cell": "Table of Contents",
   "title_sidebar": "Contents",
   "toc_cell": false,
   "toc_position": {},
   "toc_section_display": true,
   "toc_window_display": false
  }
 },
 "nbformat": 4,
 "nbformat_minor": 5
}
