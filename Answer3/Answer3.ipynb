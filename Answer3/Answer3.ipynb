{
 "cells": [
  {
   "cell_type": "markdown",
   "id": "9cbc5b76",
   "metadata": {},
   "source": [
    "# Create JSON with python"
   ]
  },
  {
   "cell_type": "code",
   "execution_count": 1,
   "id": "9de68d91",
   "metadata": {
    "ExecuteTime": {
     "end_time": "2021-06-25T15:44:10.304950Z",
     "start_time": "2021-06-25T15:44:10.290948Z"
    }
   },
   "outputs": [],
   "source": [
    "import json"
   ]
  },
  {
   "cell_type": "code",
   "execution_count": 2,
   "id": "26eeffc2",
   "metadata": {
    "ExecuteTime": {
     "end_time": "2021-06-25T15:44:10.320955Z",
     "start_time": "2021-06-25T15:44:10.307952Z"
    }
   },
   "outputs": [],
   "source": [
    "datasetC = [\n",
    "   {\n",
    "       \"user\": {\n",
    "           \"id\": 1,\n",
    "           \"name\": \"agus\",\n",
    "           \"email\": \"agus@example.com\"\n",
    "       },\n",
    "       \"txs\": [\n",
    "           {\n",
    "               \"id\": 1,\n",
    "               \"tx_date\": \"2020-01-01\",\n",
    "               \"tx_amount\": 10,\n",
    "               \"tx_type\": \"buy\"\n",
    "           },\n",
    "           {\n",
    "               \"id\": 3,\n",
    "               \"tx_date\": \"2020-02-01\",\n",
    "               \"tx_amount\": 10,\n",
    "               \"tx_type\": \"buy\"\n",
    "           },\n",
    "           {\n",
    "               \"id\": 5,\n",
    "               \"tx_date\": \"2020-03-01\",\n",
    "               \"tx_amount\": 20,\n",
    "               \"tx_type\": \"sell\"\n",
    "           }\n",
    "       ]\n",
    "   },\n",
    "   {\n",
    "       \"user\": {\n",
    "           \"id\": 2,\n",
    "           \"name\": \"asep\",\n",
    "           \"email\": \"asep@example.com\"\n",
    "       },\n",
    "       \"txs\": [\n",
    "           {\n",
    "               \"id\": 2,\n",
    "               \"tx_date\": \"2020-01-01\",\n",
    "               \"tx_amount\": 10,\n",
    "               \"tx_type\": \"sell\"\n",
    "           },\n",
    "           {\n",
    "               \"id\": 4,\n",
    "               \"tx_date\": \"2020-02-01\",\n",
    "               \"tx_amount\": 10,\n",
    "               \"tx_type\": \"sell\"\n",
    "           },\n",
    "           {\n",
    "               \"id\": 6,\n",
    "               \"tx_date\": \"2020-03-01\",\n",
    "               \"tx_amount\": 20,\n",
    "               \"tx_type\": \"buy\"\n",
    "           }\n",
    "       ]\n",
    "   }\n",
    "]\n"
   ]
  },
  {
   "cell_type": "code",
   "execution_count": 3,
   "id": "1c26d410",
   "metadata": {
    "ExecuteTime": {
     "end_time": "2021-06-25T15:44:10.336958Z",
     "start_time": "2021-06-25T15:44:10.322956Z"
    }
   },
   "outputs": [],
   "source": [
    "datasetCjson = json.dumps(datasetC, indent=4)"
   ]
  },
  {
   "cell_type": "code",
   "execution_count": 4,
   "id": "2819dcba",
   "metadata": {
    "ExecuteTime": {
     "end_time": "2021-06-25T15:44:10.352961Z",
     "start_time": "2021-06-25T15:44:10.338958Z"
    }
   },
   "outputs": [
    {
     "name": "stdout",
     "output_type": "stream",
     "text": [
      "[\n",
      "    {\n",
      "        \"user\": {\n",
      "            \"id\": 1,\n",
      "            \"name\": \"agus\",\n",
      "            \"email\": \"agus@example.com\"\n",
      "        },\n",
      "        \"txs\": [\n",
      "            {\n",
      "                \"id\": 1,\n",
      "                \"tx_date\": \"2020-01-01\",\n",
      "                \"tx_amount\": 10,\n",
      "                \"tx_type\": \"buy\"\n",
      "            },\n",
      "            {\n",
      "                \"id\": 3,\n",
      "                \"tx_date\": \"2020-02-01\",\n",
      "                \"tx_amount\": 10,\n",
      "                \"tx_type\": \"buy\"\n",
      "            },\n",
      "            {\n",
      "                \"id\": 5,\n",
      "                \"tx_date\": \"2020-03-01\",\n",
      "                \"tx_amount\": 20,\n",
      "                \"tx_type\": \"sell\"\n",
      "            }\n",
      "        ]\n",
      "    },\n",
      "    {\n",
      "        \"user\": {\n",
      "            \"id\": 2,\n",
      "            \"name\": \"asep\",\n",
      "            \"email\": \"asep@example.com\"\n",
      "        },\n",
      "        \"txs\": [\n",
      "            {\n",
      "                \"id\": 2,\n",
      "                \"tx_date\": \"2020-01-01\",\n",
      "                \"tx_amount\": 10,\n",
      "                \"tx_type\": \"sell\"\n",
      "            },\n",
      "            {\n",
      "                \"id\": 4,\n",
      "                \"tx_date\": \"2020-02-01\",\n",
      "                \"tx_amount\": 10,\n",
      "                \"tx_type\": \"sell\"\n",
      "            },\n",
      "            {\n",
      "                \"id\": 6,\n",
      "                \"tx_date\": \"2020-03-01\",\n",
      "                \"tx_amount\": 20,\n",
      "                \"tx_type\": \"buy\"\n",
      "            }\n",
      "        ]\n",
      "    }\n",
      "]\n"
     ]
    }
   ],
   "source": [
    "print(datasetCjson)"
   ]
  },
  {
   "cell_type": "markdown",
   "id": "63f87ee2",
   "metadata": {},
   "source": [
    "## Convert to JSON"
   ]
  },
  {
   "cell_type": "code",
   "execution_count": 5,
   "id": "ed677a36",
   "metadata": {
    "ExecuteTime": {
     "end_time": "2021-06-25T15:44:10.368965Z",
     "start_time": "2021-06-25T15:44:10.354962Z"
    }
   },
   "outputs": [],
   "source": [
    "with open('datasetC.json','w') as file:\n",
    "    json.dump(datasetC, file, indent=4)"
   ]
  },
  {
   "cell_type": "markdown",
   "id": "afb150e8",
   "metadata": {},
   "source": [
    "Until this step, we already succeed to create dataset C with JSON extension using python. The name of JSON file would be **datasetC.json**"
   ]
  },
  {
   "cell_type": "markdown",
   "id": "1df31e61",
   "metadata": {},
   "source": [
    "# Load JSON File and Convert to Dataframe"
   ]
  },
  {
   "cell_type": "code",
   "execution_count": 6,
   "id": "a35d8ff6",
   "metadata": {
    "ExecuteTime": {
     "end_time": "2021-06-25T15:44:10.892084Z",
     "start_time": "2021-06-25T15:44:10.370966Z"
    }
   },
   "outputs": [],
   "source": [
    "import pandas as pd"
   ]
  },
  {
   "cell_type": "code",
   "execution_count": 7,
   "id": "28053648",
   "metadata": {
    "ExecuteTime": {
     "end_time": "2021-06-25T15:44:10.908087Z",
     "start_time": "2021-06-25T15:44:10.895084Z"
    }
   },
   "outputs": [],
   "source": [
    "with open('datasetC.json','r') as file:\n",
    "    data = json.load(file)"
   ]
  },
  {
   "cell_type": "code",
   "execution_count": 8,
   "id": "0f029c8c",
   "metadata": {
    "ExecuteTime": {
     "end_time": "2021-06-25T15:44:10.923090Z",
     "start_time": "2021-06-25T15:44:10.911088Z"
    }
   },
   "outputs": [
    {
     "name": "stdout",
     "output_type": "stream",
     "text": [
      "[{'user': {'id': 1, 'name': 'agus', 'email': 'agus@example.com'}, 'txs': [{'id': 1, 'tx_date': '2020-01-01', 'tx_amount': 10, 'tx_type': 'buy'}, {'id': 3, 'tx_date': '2020-02-01', 'tx_amount': 10, 'tx_type': 'buy'}, {'id': 5, 'tx_date': '2020-03-01', 'tx_amount': 20, 'tx_type': 'sell'}]}, {'user': {'id': 2, 'name': 'asep', 'email': 'asep@example.com'}, 'txs': [{'id': 2, 'tx_date': '2020-01-01', 'tx_amount': 10, 'tx_type': 'sell'}, {'id': 4, 'tx_date': '2020-02-01', 'tx_amount': 10, 'tx_type': 'sell'}, {'id': 6, 'tx_date': '2020-03-01', 'tx_amount': 20, 'tx_type': 'buy'}]}]\n"
     ]
    }
   ],
   "source": [
    "print(data)"
   ]
  },
  {
   "cell_type": "code",
   "execution_count": 9,
   "id": "8ea25682",
   "metadata": {
    "ExecuteTime": {
     "end_time": "2021-06-25T15:44:10.955098Z",
     "start_time": "2021-06-25T15:44:10.925091Z"
    }
   },
   "outputs": [
    {
     "data": {
      "text/html": [
       "<div>\n",
       "<style scoped>\n",
       "    .dataframe tbody tr th:only-of-type {\n",
       "        vertical-align: middle;\n",
       "    }\n",
       "\n",
       "    .dataframe tbody tr th {\n",
       "        vertical-align: top;\n",
       "    }\n",
       "\n",
       "    .dataframe thead th {\n",
       "        text-align: right;\n",
       "    }\n",
       "</style>\n",
       "<table border=\"1\" class=\"dataframe\">\n",
       "  <thead>\n",
       "    <tr style=\"text-align: right;\">\n",
       "      <th></th>\n",
       "      <th>id</th>\n",
       "      <th>tx_date</th>\n",
       "      <th>tx_amount</th>\n",
       "      <th>tx_type</th>\n",
       "      <th>user</th>\n",
       "    </tr>\n",
       "  </thead>\n",
       "  <tbody>\n",
       "    <tr>\n",
       "      <th>0</th>\n",
       "      <td>1</td>\n",
       "      <td>2020-01-01</td>\n",
       "      <td>10</td>\n",
       "      <td>buy</td>\n",
       "      <td>{'id': 1, 'name': 'agus', 'email': 'agus@examp...</td>\n",
       "    </tr>\n",
       "    <tr>\n",
       "      <th>1</th>\n",
       "      <td>3</td>\n",
       "      <td>2020-02-01</td>\n",
       "      <td>10</td>\n",
       "      <td>buy</td>\n",
       "      <td>{'id': 1, 'name': 'agus', 'email': 'agus@examp...</td>\n",
       "    </tr>\n",
       "    <tr>\n",
       "      <th>2</th>\n",
       "      <td>5</td>\n",
       "      <td>2020-03-01</td>\n",
       "      <td>20</td>\n",
       "      <td>sell</td>\n",
       "      <td>{'id': 1, 'name': 'agus', 'email': 'agus@examp...</td>\n",
       "    </tr>\n",
       "    <tr>\n",
       "      <th>3</th>\n",
       "      <td>2</td>\n",
       "      <td>2020-01-01</td>\n",
       "      <td>10</td>\n",
       "      <td>sell</td>\n",
       "      <td>{'id': 2, 'name': 'asep', 'email': 'asep@examp...</td>\n",
       "    </tr>\n",
       "    <tr>\n",
       "      <th>4</th>\n",
       "      <td>4</td>\n",
       "      <td>2020-02-01</td>\n",
       "      <td>10</td>\n",
       "      <td>sell</td>\n",
       "      <td>{'id': 2, 'name': 'asep', 'email': 'asep@examp...</td>\n",
       "    </tr>\n",
       "    <tr>\n",
       "      <th>5</th>\n",
       "      <td>6</td>\n",
       "      <td>2020-03-01</td>\n",
       "      <td>20</td>\n",
       "      <td>buy</td>\n",
       "      <td>{'id': 2, 'name': 'asep', 'email': 'asep@examp...</td>\n",
       "    </tr>\n",
       "  </tbody>\n",
       "</table>\n",
       "</div>"
      ],
      "text/plain": [
       "   id     tx_date  tx_amount tx_type  \\\n",
       "0   1  2020-01-01         10     buy   \n",
       "1   3  2020-02-01         10     buy   \n",
       "2   5  2020-03-01         20    sell   \n",
       "3   2  2020-01-01         10    sell   \n",
       "4   4  2020-02-01         10    sell   \n",
       "5   6  2020-03-01         20     buy   \n",
       "\n",
       "                                                user  \n",
       "0  {'id': 1, 'name': 'agus', 'email': 'agus@examp...  \n",
       "1  {'id': 1, 'name': 'agus', 'email': 'agus@examp...  \n",
       "2  {'id': 1, 'name': 'agus', 'email': 'agus@examp...  \n",
       "3  {'id': 2, 'name': 'asep', 'email': 'asep@examp...  \n",
       "4  {'id': 2, 'name': 'asep', 'email': 'asep@examp...  \n",
       "5  {'id': 2, 'name': 'asep', 'email': 'asep@examp...  "
      ]
     },
     "execution_count": 9,
     "metadata": {},
     "output_type": "execute_result"
    }
   ],
   "source": [
    "DatasetC_1 = pd.json_normalize(data, record_path='txs',meta='user')\n",
    "DatasetC_1"
   ]
  },
  {
   "cell_type": "code",
   "execution_count": 10,
   "id": "ebe4b91d",
   "metadata": {
    "ExecuteTime": {
     "end_time": "2021-06-25T15:44:10.971101Z",
     "start_time": "2021-06-25T15:44:10.957099Z"
    }
   },
   "outputs": [
    {
     "data": {
      "text/html": [
       "<div>\n",
       "<style scoped>\n",
       "    .dataframe tbody tr th:only-of-type {\n",
       "        vertical-align: middle;\n",
       "    }\n",
       "\n",
       "    .dataframe tbody tr th {\n",
       "        vertical-align: top;\n",
       "    }\n",
       "\n",
       "    .dataframe thead th {\n",
       "        text-align: right;\n",
       "    }\n",
       "</style>\n",
       "<table border=\"1\" class=\"dataframe\">\n",
       "  <thead>\n",
       "    <tr style=\"text-align: right;\">\n",
       "      <th></th>\n",
       "      <th>id</th>\n",
       "      <th>name</th>\n",
       "      <th>email</th>\n",
       "    </tr>\n",
       "  </thead>\n",
       "  <tbody>\n",
       "    <tr>\n",
       "      <th>0</th>\n",
       "      <td>1</td>\n",
       "      <td>agus</td>\n",
       "      <td>agus@example.com</td>\n",
       "    </tr>\n",
       "    <tr>\n",
       "      <th>1</th>\n",
       "      <td>1</td>\n",
       "      <td>agus</td>\n",
       "      <td>agus@example.com</td>\n",
       "    </tr>\n",
       "    <tr>\n",
       "      <th>2</th>\n",
       "      <td>1</td>\n",
       "      <td>agus</td>\n",
       "      <td>agus@example.com</td>\n",
       "    </tr>\n",
       "    <tr>\n",
       "      <th>3</th>\n",
       "      <td>2</td>\n",
       "      <td>asep</td>\n",
       "      <td>asep@example.com</td>\n",
       "    </tr>\n",
       "    <tr>\n",
       "      <th>4</th>\n",
       "      <td>2</td>\n",
       "      <td>asep</td>\n",
       "      <td>asep@example.com</td>\n",
       "    </tr>\n",
       "    <tr>\n",
       "      <th>5</th>\n",
       "      <td>2</td>\n",
       "      <td>asep</td>\n",
       "      <td>asep@example.com</td>\n",
       "    </tr>\n",
       "  </tbody>\n",
       "</table>\n",
       "</div>"
      ],
      "text/plain": [
       "   id  name             email\n",
       "0   1  agus  agus@example.com\n",
       "1   1  agus  agus@example.com\n",
       "2   1  agus  agus@example.com\n",
       "3   2  asep  asep@example.com\n",
       "4   2  asep  asep@example.com\n",
       "5   2  asep  asep@example.com"
      ]
     },
     "execution_count": 10,
     "metadata": {},
     "output_type": "execute_result"
    }
   ],
   "source": [
    "DatasetC_2 = DatasetC_1['user'].apply(pd.Series)\n",
    "DatasetC_2"
   ]
  },
  {
   "cell_type": "markdown",
   "id": "6ee7d8bd",
   "metadata": {},
   "source": [
    "# Answer to Create CSV_1 df"
   ]
  },
  {
   "cell_type": "markdown",
   "id": "ab21e5be",
   "metadata": {},
   "source": [
    "Expected Dataframe :"
   ]
  },
  {
   "attachments": {
    "image.png": {
     "image/png": "[encoded data removed]"
    }
   },
   "cell_type": "markdown",
   "id": "03c86687",
   "metadata": {},
   "source": [
    "![image.png](attachment:image.png)"
   ]
  },
  {
   "cell_type": "code",
   "execution_count": 11,
   "id": "de41c7b7",
   "metadata": {
    "ExecuteTime": {
     "end_time": "2021-06-25T15:44:11.003108Z",
     "start_time": "2021-06-25T15:44:10.973102Z"
    }
   },
   "outputs": [
    {
     "data": {
      "text/html": [
       "<div>\n",
       "<style scoped>\n",
       "    .dataframe tbody tr th:only-of-type {\n",
       "        vertical-align: middle;\n",
       "    }\n",
       "\n",
       "    .dataframe tbody tr th {\n",
       "        vertical-align: top;\n",
       "    }\n",
       "\n",
       "    .dataframe thead th {\n",
       "        text-align: right;\n",
       "    }\n",
       "</style>\n",
       "<table border=\"1\" class=\"dataframe\">\n",
       "  <thead>\n",
       "    <tr style=\"text-align: right;\">\n",
       "      <th></th>\n",
       "      <th>tx_id</th>\n",
       "    </tr>\n",
       "  </thead>\n",
       "  <tbody>\n",
       "    <tr>\n",
       "      <th>0</th>\n",
       "      <td>1</td>\n",
       "    </tr>\n",
       "    <tr>\n",
       "      <th>1</th>\n",
       "      <td>3</td>\n",
       "    </tr>\n",
       "    <tr>\n",
       "      <th>2</th>\n",
       "      <td>5</td>\n",
       "    </tr>\n",
       "    <tr>\n",
       "      <th>3</th>\n",
       "      <td>2</td>\n",
       "    </tr>\n",
       "    <tr>\n",
       "      <th>4</th>\n",
       "      <td>4</td>\n",
       "    </tr>\n",
       "    <tr>\n",
       "      <th>5</th>\n",
       "      <td>6</td>\n",
       "    </tr>\n",
       "  </tbody>\n",
       "</table>\n",
       "</div>"
      ],
      "text/plain": [
       "   tx_id\n",
       "0      1\n",
       "1      3\n",
       "2      5\n",
       "3      2\n",
       "4      4\n",
       "5      6"
      ]
     },
     "execution_count": 11,
     "metadata": {},
     "output_type": "execute_result"
    }
   ],
   "source": [
    "#copy dataframe from DatasetC_1 and assign tuh new variable named as dfTemp1\n",
    "dfTemp1 = DatasetC_1.copy()\n",
    "\n",
    "#drop all column, except id column\n",
    "dfTemp1 = dfTemp1.drop(['user','tx_type','tx_amount','tx_date'], axis=1)\n",
    "\n",
    "#rename column id to tx_id\n",
    "dfTemp1.columns = ['tx_id']\n",
    "\n",
    "#display dfTemp1\n",
    "dfTemp1"
   ]
  },
  {
   "cell_type": "code",
   "execution_count": 12,
   "id": "4819bfaf",
   "metadata": {
    "ExecuteTime": {
     "end_time": "2021-06-25T15:44:11.019112Z",
     "start_time": "2021-06-25T15:44:11.005109Z"
    }
   },
   "outputs": [
    {
     "data": {
      "text/html": [
       "<div>\n",
       "<style scoped>\n",
       "    .dataframe tbody tr th:only-of-type {\n",
       "        vertical-align: middle;\n",
       "    }\n",
       "\n",
       "    .dataframe tbody tr th {\n",
       "        vertical-align: top;\n",
       "    }\n",
       "\n",
       "    .dataframe thead th {\n",
       "        text-align: right;\n",
       "    }\n",
       "</style>\n",
       "<table border=\"1\" class=\"dataframe\">\n",
       "  <thead>\n",
       "    <tr style=\"text-align: right;\">\n",
       "      <th></th>\n",
       "      <th>user_id</th>\n",
       "    </tr>\n",
       "  </thead>\n",
       "  <tbody>\n",
       "    <tr>\n",
       "      <th>0</th>\n",
       "      <td>1</td>\n",
       "    </tr>\n",
       "    <tr>\n",
       "      <th>1</th>\n",
       "      <td>1</td>\n",
       "    </tr>\n",
       "    <tr>\n",
       "      <th>2</th>\n",
       "      <td>1</td>\n",
       "    </tr>\n",
       "    <tr>\n",
       "      <th>3</th>\n",
       "      <td>2</td>\n",
       "    </tr>\n",
       "    <tr>\n",
       "      <th>4</th>\n",
       "      <td>2</td>\n",
       "    </tr>\n",
       "    <tr>\n",
       "      <th>5</th>\n",
       "      <td>2</td>\n",
       "    </tr>\n",
       "  </tbody>\n",
       "</table>\n",
       "</div>"
      ],
      "text/plain": [
       "   user_id\n",
       "0        1\n",
       "1        1\n",
       "2        1\n",
       "3        2\n",
       "4        2\n",
       "5        2"
      ]
     },
     "execution_count": 12,
     "metadata": {},
     "output_type": "execute_result"
    }
   ],
   "source": [
    "#copy dataframe from DatasetC_2 and assign tuh new variable named as dfTemp2\n",
    "dfTemp2 = DatasetC_2.copy()\n",
    "\n",
    "#drop column user\n",
    "dfTemp2 = dfTemp2.drop(['name','email'], axis=1)\n",
    "\n",
    "#rename column id to tx_id\n",
    "dfTemp2.columns = ['user_id']\n",
    "\n",
    "#display dfTemp2\n",
    "dfTemp2"
   ]
  },
  {
   "cell_type": "code",
   "execution_count": 13,
   "id": "0eee65df",
   "metadata": {
    "ExecuteTime": {
     "end_time": "2021-06-25T15:44:11.035116Z",
     "start_time": "2021-06-25T15:44:11.021113Z"
    }
   },
   "outputs": [
    {
     "data": {
      "text/html": [
       "<div>\n",
       "<style scoped>\n",
       "    .dataframe tbody tr th:only-of-type {\n",
       "        vertical-align: middle;\n",
       "    }\n",
       "\n",
       "    .dataframe tbody tr th {\n",
       "        vertical-align: top;\n",
       "    }\n",
       "\n",
       "    .dataframe thead th {\n",
       "        text-align: right;\n",
       "    }\n",
       "</style>\n",
       "<table border=\"1\" class=\"dataframe\">\n",
       "  <thead>\n",
       "    <tr style=\"text-align: right;\">\n",
       "      <th></th>\n",
       "      <th>user_id</th>\n",
       "      <th>tx_id</th>\n",
       "    </tr>\n",
       "  </thead>\n",
       "  <tbody>\n",
       "    <tr>\n",
       "      <th>0</th>\n",
       "      <td>1</td>\n",
       "      <td>1</td>\n",
       "    </tr>\n",
       "    <tr>\n",
       "      <th>1</th>\n",
       "      <td>1</td>\n",
       "      <td>3</td>\n",
       "    </tr>\n",
       "    <tr>\n",
       "      <th>2</th>\n",
       "      <td>1</td>\n",
       "      <td>5</td>\n",
       "    </tr>\n",
       "    <tr>\n",
       "      <th>3</th>\n",
       "      <td>2</td>\n",
       "      <td>2</td>\n",
       "    </tr>\n",
       "    <tr>\n",
       "      <th>4</th>\n",
       "      <td>2</td>\n",
       "      <td>4</td>\n",
       "    </tr>\n",
       "    <tr>\n",
       "      <th>5</th>\n",
       "      <td>2</td>\n",
       "      <td>6</td>\n",
       "    </tr>\n",
       "  </tbody>\n",
       "</table>\n",
       "</div>"
      ],
      "text/plain": [
       "   user_id  tx_id\n",
       "0        1      1\n",
       "1        1      3\n",
       "2        1      5\n",
       "3        2      2\n",
       "4        2      4\n",
       "5        2      6"
      ]
     },
     "execution_count": 13,
     "metadata": {},
     "output_type": "execute_result"
    }
   ],
   "source": [
    "#Concatenate dfTemp1 and dfTemp2 to one dataframe called dfCSV_1\n",
    "dfCSV_1 = pd.concat([dfTemp2, dfTemp1], axis=1)\n",
    "dfCSV_1"
   ]
  },
  {
   "cell_type": "code",
   "execution_count": 14,
   "id": "bcbbc3bf",
   "metadata": {
    "ExecuteTime": {
     "end_time": "2021-06-25T15:44:11.051119Z",
     "start_time": "2021-06-25T15:44:11.037116Z"
    }
   },
   "outputs": [
    {
     "name": "stdout",
     "output_type": "stream",
     "text": [
      "Convert Success\n"
     ]
    }
   ],
   "source": [
    "#Convert Dataframe to CSV\n",
    "dfCSV_1.to_csv('CSV_1.csv', index=False)\n",
    "print('Convert Success')"
   ]
  },
  {
   "cell_type": "code",
   "execution_count": 15,
   "id": "d0b0bb7b",
   "metadata": {
    "ExecuteTime": {
     "end_time": "2021-06-25T15:44:11.067123Z",
     "start_time": "2021-06-25T15:44:11.053121Z"
    }
   },
   "outputs": [
    {
     "data": {
      "text/html": [
       "<div>\n",
       "<style scoped>\n",
       "    .dataframe tbody tr th:only-of-type {\n",
       "        vertical-align: middle;\n",
       "    }\n",
       "\n",
       "    .dataframe tbody tr th {\n",
       "        vertical-align: top;\n",
       "    }\n",
       "\n",
       "    .dataframe thead th {\n",
       "        text-align: right;\n",
       "    }\n",
       "</style>\n",
       "<table border=\"1\" class=\"dataframe\">\n",
       "  <thead>\n",
       "    <tr style=\"text-align: right;\">\n",
       "      <th></th>\n",
       "      <th>user_id</th>\n",
       "      <th>tx_id</th>\n",
       "    </tr>\n",
       "  </thead>\n",
       "  <tbody>\n",
       "    <tr>\n",
       "      <th>0</th>\n",
       "      <td>1</td>\n",
       "      <td>1</td>\n",
       "    </tr>\n",
       "    <tr>\n",
       "      <th>1</th>\n",
       "      <td>1</td>\n",
       "      <td>3</td>\n",
       "    </tr>\n",
       "    <tr>\n",
       "      <th>2</th>\n",
       "      <td>1</td>\n",
       "      <td>5</td>\n",
       "    </tr>\n",
       "    <tr>\n",
       "      <th>3</th>\n",
       "      <td>2</td>\n",
       "      <td>2</td>\n",
       "    </tr>\n",
       "    <tr>\n",
       "      <th>4</th>\n",
       "      <td>2</td>\n",
       "      <td>4</td>\n",
       "    </tr>\n",
       "    <tr>\n",
       "      <th>5</th>\n",
       "      <td>2</td>\n",
       "      <td>6</td>\n",
       "    </tr>\n",
       "  </tbody>\n",
       "</table>\n",
       "</div>"
      ],
      "text/plain": [
       "   user_id  tx_id\n",
       "0        1      1\n",
       "1        1      3\n",
       "2        1      5\n",
       "3        2      2\n",
       "4        2      4\n",
       "5        2      6"
      ]
     },
     "execution_count": 15,
     "metadata": {},
     "output_type": "execute_result"
    }
   ],
   "source": [
    "#load to recheck dataset in CSV_1\n",
    "dfForCSV_1 = pd.read_csv('CSV_1.csv')\n",
    "dfForCSV_1"
   ]
  },
  {
   "cell_type": "markdown",
   "id": "b091f066",
   "metadata": {},
   "source": [
    "# Answer to Create CSV_2 df"
   ]
  },
  {
   "attachments": {
    "image.png": {
     "image/png": "[encoded data removed]"
    }
   },
   "cell_type": "markdown",
   "id": "8c912e2d",
   "metadata": {},
   "source": [
    "Expected CSV :\n",
    "\n",
    "\n",
    "![image.png](attachment:image.png)"
   ]
  },
  {
   "cell_type": "code",
   "execution_count": 16,
   "id": "57c7a214",
   "metadata": {
    "ExecuteTime": {
     "end_time": "2021-06-25T15:44:11.083127Z",
     "start_time": "2021-06-25T15:44:11.069123Z"
    }
   },
   "outputs": [
    {
     "data": {
      "text/html": [
       "<div>\n",
       "<style scoped>\n",
       "    .dataframe tbody tr th:only-of-type {\n",
       "        vertical-align: middle;\n",
       "    }\n",
       "\n",
       "    .dataframe tbody tr th {\n",
       "        vertical-align: top;\n",
       "    }\n",
       "\n",
       "    .dataframe thead th {\n",
       "        text-align: right;\n",
       "    }\n",
       "</style>\n",
       "<table border=\"1\" class=\"dataframe\">\n",
       "  <thead>\n",
       "    <tr style=\"text-align: right;\">\n",
       "      <th></th>\n",
       "      <th>id</th>\n",
       "      <th>name</th>\n",
       "      <th>email</th>\n",
       "    </tr>\n",
       "  </thead>\n",
       "  <tbody>\n",
       "    <tr>\n",
       "      <th>0</th>\n",
       "      <td>1</td>\n",
       "      <td>agus</td>\n",
       "      <td>agus@example.com</td>\n",
       "    </tr>\n",
       "    <tr>\n",
       "      <th>1</th>\n",
       "      <td>2</td>\n",
       "      <td>asep</td>\n",
       "      <td>asep@example.com</td>\n",
       "    </tr>\n",
       "  </tbody>\n",
       "</table>\n",
       "</div>"
      ],
      "text/plain": [
       "   id  name             email\n",
       "0   1  agus  agus@example.com\n",
       "1   2  asep  asep@example.com"
      ]
     },
     "execution_count": 16,
     "metadata": {},
     "output_type": "execute_result"
    }
   ],
   "source": [
    "#Copy dataset from DatasetC_2 and assign to new dataframe named as dfTemp3\n",
    "dfTemp3 = DatasetC_2.copy()\n",
    "\n",
    "#Delete duplicate data to convert to be expected csv\n",
    "dfCSV_2 = dfTemp3.drop_duplicates()\n",
    "\n",
    "#reset_index\n",
    "dfCSV_2 = dfCSV_2.reset_index(drop=True)\n",
    "\n",
    "#show final dataframe\n",
    "dfCSV_2"
   ]
  },
  {
   "cell_type": "code",
   "execution_count": 17,
   "id": "8e3d1b93",
   "metadata": {
    "ExecuteTime": {
     "end_time": "2021-06-25T15:44:11.099130Z",
     "start_time": "2021-06-25T15:44:11.085127Z"
    }
   },
   "outputs": [
    {
     "name": "stdout",
     "output_type": "stream",
     "text": [
      "Convert Success\n"
     ]
    }
   ],
   "source": [
    "#Convert Dataframe to CSV\n",
    "dfCSV_2.to_csv('CSV_2.csv', index=False)\n",
    "print('Convert Success')"
   ]
  },
  {
   "cell_type": "code",
   "execution_count": 18,
   "id": "21917790",
   "metadata": {
    "ExecuteTime": {
     "end_time": "2021-06-25T15:44:11.115134Z",
     "start_time": "2021-06-25T15:44:11.101131Z"
    }
   },
   "outputs": [
    {
     "data": {
      "text/html": [
       "<div>\n",
       "<style scoped>\n",
       "    .dataframe tbody tr th:only-of-type {\n",
       "        vertical-align: middle;\n",
       "    }\n",
       "\n",
       "    .dataframe tbody tr th {\n",
       "        vertical-align: top;\n",
       "    }\n",
       "\n",
       "    .dataframe thead th {\n",
       "        text-align: right;\n",
       "    }\n",
       "</style>\n",
       "<table border=\"1\" class=\"dataframe\">\n",
       "  <thead>\n",
       "    <tr style=\"text-align: right;\">\n",
       "      <th></th>\n",
       "      <th>id</th>\n",
       "      <th>name</th>\n",
       "      <th>email</th>\n",
       "    </tr>\n",
       "  </thead>\n",
       "  <tbody>\n",
       "    <tr>\n",
       "      <th>0</th>\n",
       "      <td>1</td>\n",
       "      <td>agus</td>\n",
       "      <td>agus@example.com</td>\n",
       "    </tr>\n",
       "    <tr>\n",
       "      <th>1</th>\n",
       "      <td>2</td>\n",
       "      <td>asep</td>\n",
       "      <td>asep@example.com</td>\n",
       "    </tr>\n",
       "  </tbody>\n",
       "</table>\n",
       "</div>"
      ],
      "text/plain": [
       "   id  name             email\n",
       "0   1  agus  agus@example.com\n",
       "1   2  asep  asep@example.com"
      ]
     },
     "execution_count": 18,
     "metadata": {},
     "output_type": "execute_result"
    }
   ],
   "source": [
    "#load to recheck dataset in CSV_1\n",
    "dfForCSV_2 = pd.read_csv('CSV_2.csv')\n",
    "dfForCSV_2"
   ]
  },
  {
   "cell_type": "markdown",
   "id": "d4800af6",
   "metadata": {},
   "source": [
    "# Answer to Create CSV_3 df"
   ]
  },
  {
   "attachments": {
    "image.png": {
     "image/png": "[encoded data removed]"
    }
   },
   "cell_type": "markdown",
   "id": "82ca42b4",
   "metadata": {},
   "source": [
    "Expected CSV :\n",
    "\n",
    "![image.png](attachment:image.png)"
   ]
  },
  {
   "cell_type": "code",
   "execution_count": 19,
   "id": "a4b9d7cf",
   "metadata": {
    "ExecuteTime": {
     "end_time": "2021-06-25T15:44:11.131138Z",
     "start_time": "2021-06-25T15:44:11.116134Z"
    }
   },
   "outputs": [
    {
     "data": {
      "text/html": [
       "<div>\n",
       "<style scoped>\n",
       "    .dataframe tbody tr th:only-of-type {\n",
       "        vertical-align: middle;\n",
       "    }\n",
       "\n",
       "    .dataframe tbody tr th {\n",
       "        vertical-align: top;\n",
       "    }\n",
       "\n",
       "    .dataframe thead th {\n",
       "        text-align: right;\n",
       "    }\n",
       "</style>\n",
       "<table border=\"1\" class=\"dataframe\">\n",
       "  <thead>\n",
       "    <tr style=\"text-align: right;\">\n",
       "      <th></th>\n",
       "      <th>id</th>\n",
       "      <th>tx_date</th>\n",
       "      <th>tx_amount</th>\n",
       "      <th>tx_type</th>\n",
       "    </tr>\n",
       "  </thead>\n",
       "  <tbody>\n",
       "    <tr>\n",
       "      <th>0</th>\n",
       "      <td>1</td>\n",
       "      <td>2020-01-01</td>\n",
       "      <td>10</td>\n",
       "      <td>buy</td>\n",
       "    </tr>\n",
       "    <tr>\n",
       "      <th>3</th>\n",
       "      <td>2</td>\n",
       "      <td>2020-01-01</td>\n",
       "      <td>10</td>\n",
       "      <td>sell</td>\n",
       "    </tr>\n",
       "    <tr>\n",
       "      <th>1</th>\n",
       "      <td>3</td>\n",
       "      <td>2020-02-01</td>\n",
       "      <td>10</td>\n",
       "      <td>buy</td>\n",
       "    </tr>\n",
       "    <tr>\n",
       "      <th>4</th>\n",
       "      <td>4</td>\n",
       "      <td>2020-02-01</td>\n",
       "      <td>10</td>\n",
       "      <td>sell</td>\n",
       "    </tr>\n",
       "    <tr>\n",
       "      <th>2</th>\n",
       "      <td>5</td>\n",
       "      <td>2020-03-01</td>\n",
       "      <td>20</td>\n",
       "      <td>sell</td>\n",
       "    </tr>\n",
       "    <tr>\n",
       "      <th>5</th>\n",
       "      <td>6</td>\n",
       "      <td>2020-03-01</td>\n",
       "      <td>20</td>\n",
       "      <td>buy</td>\n",
       "    </tr>\n",
       "  </tbody>\n",
       "</table>\n",
       "</div>"
      ],
      "text/plain": [
       "   id     tx_date  tx_amount tx_type\n",
       "0   1  2020-01-01         10     buy\n",
       "3   2  2020-01-01         10    sell\n",
       "1   3  2020-02-01         10     buy\n",
       "4   4  2020-02-01         10    sell\n",
       "2   5  2020-03-01         20    sell\n",
       "5   6  2020-03-01         20     buy"
      ]
     },
     "execution_count": 19,
     "metadata": {},
     "output_type": "execute_result"
    }
   ],
   "source": [
    "#Copy dataset from DatasetC_1 and assign to new dataframe named as dfTemp4\n",
    "dfTemp4 = DatasetC_1.copy()\n",
    "\n",
    "#drop user column\n",
    "dfTemp4 = dfTemp4.drop('user', axis=1)\n",
    "\n",
    "#order by id column\n",
    "dfTemp4 = dfTemp4.sort_values(by=['id'])\n",
    "\n",
    "#show dfTemp4\n",
    "dfTemp4\n"
   ]
  },
  {
   "cell_type": "code",
   "execution_count": 20,
   "id": "b3e1ca6c",
   "metadata": {
    "ExecuteTime": {
     "end_time": "2021-06-25T15:44:11.147142Z",
     "start_time": "2021-06-25T15:44:11.132140Z"
    }
   },
   "outputs": [
    {
     "name": "stdout",
     "output_type": "stream",
     "text": [
      "Convert Success\n"
     ]
    }
   ],
   "source": [
    "#Convert Dataframe to CSV\n",
    "dfTemp4.to_csv('CSV_3.csv', index=False)\n",
    "print('Convert Success')"
   ]
  },
  {
   "cell_type": "code",
   "execution_count": 21,
   "id": "dae99322",
   "metadata": {
    "ExecuteTime": {
     "end_time": "2021-06-25T15:44:11.179149Z",
     "start_time": "2021-06-25T15:44:11.149142Z"
    }
   },
   "outputs": [
    {
     "data": {
      "text/html": [
       "<div>\n",
       "<style scoped>\n",
       "    .dataframe tbody tr th:only-of-type {\n",
       "        vertical-align: middle;\n",
       "    }\n",
       "\n",
       "    .dataframe tbody tr th {\n",
       "        vertical-align: top;\n",
       "    }\n",
       "\n",
       "    .dataframe thead th {\n",
       "        text-align: right;\n",
       "    }\n",
       "</style>\n",
       "<table border=\"1\" class=\"dataframe\">\n",
       "  <thead>\n",
       "    <tr style=\"text-align: right;\">\n",
       "      <th></th>\n",
       "      <th>id</th>\n",
       "      <th>tx_date</th>\n",
       "      <th>tx_amount</th>\n",
       "      <th>tx_type</th>\n",
       "    </tr>\n",
       "  </thead>\n",
       "  <tbody>\n",
       "    <tr>\n",
       "      <th>0</th>\n",
       "      <td>1</td>\n",
       "      <td>2020-01-01</td>\n",
       "      <td>10</td>\n",
       "      <td>buy</td>\n",
       "    </tr>\n",
       "    <tr>\n",
       "      <th>1</th>\n",
       "      <td>2</td>\n",
       "      <td>2020-01-01</td>\n",
       "      <td>10</td>\n",
       "      <td>sell</td>\n",
       "    </tr>\n",
       "    <tr>\n",
       "      <th>2</th>\n",
       "      <td>3</td>\n",
       "      <td>2020-02-01</td>\n",
       "      <td>10</td>\n",
       "      <td>buy</td>\n",
       "    </tr>\n",
       "    <tr>\n",
       "      <th>3</th>\n",
       "      <td>4</td>\n",
       "      <td>2020-02-01</td>\n",
       "      <td>10</td>\n",
       "      <td>sell</td>\n",
       "    </tr>\n",
       "    <tr>\n",
       "      <th>4</th>\n",
       "      <td>5</td>\n",
       "      <td>2020-03-01</td>\n",
       "      <td>20</td>\n",
       "      <td>sell</td>\n",
       "    </tr>\n",
       "    <tr>\n",
       "      <th>5</th>\n",
       "      <td>6</td>\n",
       "      <td>2020-03-01</td>\n",
       "      <td>20</td>\n",
       "      <td>buy</td>\n",
       "    </tr>\n",
       "  </tbody>\n",
       "</table>\n",
       "</div>"
      ],
      "text/plain": [
       "   id     tx_date  tx_amount tx_type\n",
       "0   1  2020-01-01         10     buy\n",
       "1   2  2020-01-01         10    sell\n",
       "2   3  2020-02-01         10     buy\n",
       "3   4  2020-02-01         10    sell\n",
       "4   5  2020-03-01         20    sell\n",
       "5   6  2020-03-01         20     buy"
      ]
     },
     "execution_count": 21,
     "metadata": {},
     "output_type": "execute_result"
    }
   ],
   "source": [
    "#load to recheck dataset in CSV_1\n",
    "dfForCSV_3 = pd.read_csv('CSV_3.csv')\n",
    "dfForCSV_3"
   ]
  },
  {
   "cell_type": "code",
   "execution_count": null,
   "id": "60d0d24d",
   "metadata": {},
   "outputs": [],
   "source": []
  }
 ],
 "metadata": {
  "kernelspec": {
   "display_name": "Python 3",
   "language": "python",
   "name": "python3"
  },
  "language_info": {
   "codemirror_mode": {
    "name": "ipython",
    "version": 3
   },
   "file_extension": ".py",
   "mimetype": "text/x-python",
   "name": "python",
   "nbconvert_exporter": "python",
   "pygments_lexer": "ipython3",
   "version": "3.8.8"
  },
  "toc": {
   "base_numbering": 1,
   "nav_menu": {},
   "number_sections": true,
   "sideBar": true,
   "skip_h1_title": false,
   "title_cell": "Table of Contents",
   "title_sidebar": "Contents",
   "toc_cell": false,
   "toc_position": {},
   "toc_section_display": true,
   "toc_window_display": false
  }
 },
 "nbformat": 4,
 "nbformat_minor": 5
}
